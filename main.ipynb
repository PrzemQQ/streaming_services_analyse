{
 "cells": [
  {
   "cell_type": "markdown",
   "metadata": {},
   "source": [
    "### EDA on streaming services\n",
    "Description in readme.md file"
   ]
  },
  {
   "cell_type": "markdown",
   "metadata": {},
   "source": [
    "### Importing packages"
   ]
  },
  {
   "cell_type": "code",
   "execution_count": 97,
   "metadata": {},
   "outputs": [],
   "source": [
    "import pandas as pd\n",
    "import matplotlib.pyplot as plt\n",
    "import numpy as np\n",
    "import seaborn as sns"
   ]
  },
  {
   "cell_type": "markdown",
   "metadata": {},
   "source": [
    "###  Loading data\n",
    "Dataset has 8 columns:\n",
    "<ul>\n",
    "<li> ID - movies identificator</li>\n",
    "<li> Title of the movie</li>\n",
    "<li> Year of release</li>\n",
    "<li>Age Category shows target group of movies:\n",
    "<ul>\n",
    "<li> 0 - Movie for all </li>\n",
    "<li> 7 - Movie for childrens 7+ </li>\n",
    "<li> 13 - Movie for teenagers 13+ </li>\n",
    "<li> 18 - Movie for adults 18+ </li> </ul>\n",
    " </li> \n",
    "<li>Reviews on Rotten Tomatoes from 0 to 100 </li>\n",
    "<li> Avability on Netflix, Hulu, Disney+, Amazon Prime Video</li>\n",
    "\n",
    "</ul>"
   ]
  },
  {
   "cell_type": "code",
   "execution_count": 98,
   "metadata": {},
   "outputs": [
    {
     "name": "stdout",
     "output_type": "stream",
     "text": [
      "                                      Title  Year  Age Rotten Tomatoes  \\\n",
      "0                              The Irishman  2019  18+          98/100   \n",
      "1                                    Dangal  2016   7+          97/100   \n",
      "2  David Attenborough: A Life on Our Planet  2020   7+          95/100   \n",
      "3         Lagaan: Once Upon a Time in India  2001   7+          94/100   \n",
      "\n",
      "   Netflix  Hulu  Prime Video  Disney+  \n",
      "0        1     0            0        0  \n",
      "1        1     0            0        0  \n",
      "2        1     0            0        0  \n",
      "3        1     0            0        0  \n",
      "<class 'pandas.core.frame.DataFrame'>\n",
      "RangeIndex: 9515 entries, 0 to 9514\n",
      "Data columns (total 8 columns):\n",
      " #   Column           Non-Null Count  Dtype \n",
      "---  ------           --------------  ----- \n",
      " 0   Title            9515 non-null   object\n",
      " 1   Year             9515 non-null   int64 \n",
      " 2   Age              5338 non-null   object\n",
      " 3   Rotten Tomatoes  9508 non-null   object\n",
      " 4   Netflix          9515 non-null   int64 \n",
      " 5   Hulu             9515 non-null   int64 \n",
      " 6   Prime Video      9515 non-null   int64 \n",
      " 7   Disney+          9515 non-null   int64 \n",
      "dtypes: int64(5), object(3)\n",
      "memory usage: 594.8+ KB\n",
      "None\n"
     ]
    }
   ],
   "source": [
    "dataset = pd.read_csv(\"streaming_services_data.csv\") # read the csv file\n",
    "dataset.drop([\"Unnamed: 0\", \"Type\",\"ID\"], axis=1, inplace=True) # delete unnecessary columns\n",
    "print(dataset.head(4)) # print first 4 rows of the dataset\n",
    "print(dataset.info()) # print information about the dataset\n",
    "\n"
   ]
  },
  {
   "cell_type": "markdown",
   "metadata": {},
   "source": [
    "### Null values\n",
    "Almost all columns don't have null values, except Age column, there we have 4177 null values, which is 43.9 % percent of data in this column. Rest of columns have 0 null values."
   ]
  },
  {
   "cell_type": "code",
   "execution_count": 99,
   "metadata": {},
   "outputs": [
    {
     "name": "stdout",
     "output_type": "stream",
     "text": [
      "Null values in the dataset:\n",
      "Title                 0\n",
      "Year                  0\n",
      "Age                4177\n",
      "Rotten Tomatoes       7\n",
      "Netflix               0\n",
      "Hulu                  0\n",
      "Prime Video           0\n",
      "Disney+               0\n",
      "dtype: int64\n",
      "Percentage of null values in the dataset: Title               0.000000\n",
      "Year                0.000000\n",
      "Age                43.899107\n",
      "Rotten Tomatoes     0.073568\n",
      "Netflix             0.000000\n",
      "Hulu                0.000000\n",
      "Prime Video         0.000000\n",
      "Disney+             0.000000\n",
      "dtype: float64\n"
     ]
    }
   ],
   "source": [
    "print(\"Null values in the dataset:\")\n",
    "print(dataset.isna().sum()) # print the number of null values in the dataset\n",
    "print(\"Percentage of null values in the dataset:\", dataset.isna().sum()/len(dataset)*100)"
   ]
  },
  {
   "cell_type": "markdown",
   "metadata": {},
   "source": [
    "### Adding columns, transforming data\n",
    "To make analyse easier I transformed ***Rotten Tomatoes*** column by striping value \"/100\" from each record and changed it to int. Missing values set to the average of the review. <br> Added new column ***streaming_service_type***, which stores informations about streaming services. This column contains str values (each analysed streaming service). <br>\n",
    "Changed values in **Age** column to int values (described above). Null values replaced with 0. <br>"
   ]
  },
  {
   "cell_type": "code",
   "execution_count": 172,
   "metadata": {},
   "outputs": [
    {
     "name": "stdout",
     "output_type": "stream",
     "text": [
      "The cleaned dataset has been saved to a csv file\n"
     ]
    }
   ],
   "source": [
    "dataset[\"Rotten Tomatoes\"]=dataset[\"Rotten Tomatoes\"].str.strip(\"/100\") # remove  /100 sign from the Rotten Tomatoes column\n",
    "reviews_value = [review for review in dataset[\"Rotten Tomatoes\"]] # create a list of the values of the Rotten Tomatoes column\n",
    "reviews_int = []\n",
    "for reviews in reviews_value:\n",
    "    try:\n",
    "        reviews_int.append(int(reviews))\n",
    "    except ValueError:\n",
    "        reviews_int.append(0) # if the value is not an integer, set it to 0\n",
    "dataset[\"Rotten Tomatoes\"].fillna(int(np.mean(reviews_int)), inplace=True) # fill the null values with the mean of the non-null values\n",
    "\n",
    "dataset[\"Age\"] = dataset[\"Age\"].str.strip(\"+\") # remove + sign from the Age column\n",
    "dataset[\"Age\"] = [ 0 if age_int == \"all\" else  age_int for age_int in dataset[\"Age\"]] # convert the all values to 0 in the Age column\n",
    "dataset[\"Age\"].fillna(0, inplace=True) # fill the null values in the Age column with 0\n",
    "dataset[\"Age\"].astype(int) # convert the Age column to integer\n",
    "\n",
    "#create a new column with streaming services names\n",
    "streaming_service_type = []\n",
    "for i in range(len(dataset)):\n",
    "     if dataset.loc[i,\"Netflix\"] == 1:\n",
    "         streaming_service_type.append(\"Netflix\")\n",
    "     elif dataset.loc[i,\"Hulu\"] == 1:\n",
    "         streaming_service_type.append(\"Hulu\")\n",
    "     elif dataset.loc[i,\"Prime Video\"] == 1:\n",
    "         streaming_service_type.append(\"Prime Video\")\n",
    "     else:\n",
    "         streaming_service_type.append(\"Disney+\")\n",
    "dataset[\"streaming_service_type\"] = streaming_service_type # create a new column with the streaming services names\n",
    "\n",
    "\n",
    "\n",
    "dataset.to_csv(\"streaming_services_data_cleaned.csv\") # save the cleaned dataset to a csv file\n",
    "print(\"The cleaned dataset has been saved to a csv file\")\n",
    "\n"
   ]
  },
  {
   "cell_type": "markdown",
   "metadata": {},
   "source": [
    "### Opening cleaned version of dataset"
   ]
  },
  {
   "cell_type": "code",
   "execution_count": 173,
   "metadata": {},
   "outputs": [
    {
     "data": {
      "text/plain": [
       "Unnamed: 0                  int64\n",
       "Title                      object\n",
       "Year                        int64\n",
       "Age                         int64\n",
       "Rotten Tomatoes           float64\n",
       "Netflix                     int64\n",
       "Hulu                        int64\n",
       "Prime Video                 int64\n",
       "Disney+                     int64\n",
       "streaming_service_type     object\n",
       "dtype: object"
      ]
     },
     "execution_count": 173,
     "metadata": {},
     "output_type": "execute_result"
    }
   ],
   "source": [
    "dataset_cleaned = pd.read_csv(\"streaming_services_data_cleaned.csv\") # read the cleaned dataset\n",
    "dataset_cleaned.dtypes"
   ]
  },
  {
   "cell_type": "markdown",
   "metadata": {},
   "source": [
    "### Boxplot \n",
    "Visually shows the distribution of numerical data, based on a five number summary: <ul> \n",
    "<li> minimum </li>\n",
    "<li> First Quartile Q1 </li>\n",
    "<li> median (Second Quartile Q2) </li>\n",
    "<li> Third Quartile Q3 </li>\n",
    "<li>maximum </li>\n",
    "<li> IQR - Interquartile range; the distance between Q3 and Q1 </li>\n",
    "</ul>\n",
    " Distribution of the age column show as, that Netflix, Hulu and Amazon Prime Video have simillar distribution (summaries), but in Disney+ case, we can notice that more movies are  intended for childrens (0 or 7+ age group )\n"
   ]
  },
  {
   "cell_type": "code",
   "execution_count": 223,
   "metadata": {},
   "outputs": [
    {
     "data": {
      "image/png": "[encoded data removed]",
      "text/plain": [
       "<Figure size 1152x1152 with 3 Axes>"
      ]
     },
     "metadata": {
      "needs_background": "light"
     },
     "output_type": "display_data"
    },
    {
     "data": {
      "text/html": [
       "<div>\n",
       "<style scoped>\n",
       "    .dataframe tbody tr th:only-of-type {\n",
       "        vertical-align: middle;\n",
       "    }\n",
       "\n",
       "    .dataframe tbody tr th {\n",
       "        vertical-align: top;\n",
       "    }\n",
       "\n",
       "    .dataframe thead th {\n",
       "        text-align: right;\n",
       "    }\n",
       "</style>\n",
       "<table border=\"1\" class=\"dataframe\">\n",
       "  <thead>\n",
       "    <tr style=\"text-align: right;\">\n",
       "      <th></th>\n",
       "      <th>Year</th>\n",
       "      <th>Age</th>\n",
       "      <th>Rotten Tomatoes</th>\n",
       "    </tr>\n",
       "  </thead>\n",
       "  <tbody>\n",
       "    <tr>\n",
       "      <th>count</th>\n",
       "      <td>9515.000000</td>\n",
       "      <td>9515.000000</td>\n",
       "      <td>9500.000000</td>\n",
       "    </tr>\n",
       "    <tr>\n",
       "      <th>mean</th>\n",
       "      <td>2007.422386</td>\n",
       "      <td>6.935155</td>\n",
       "      <td>43.923368</td>\n",
       "    </tr>\n",
       "    <tr>\n",
       "      <th>std</th>\n",
       "      <td>19.130367</td>\n",
       "      <td>7.757323</td>\n",
       "      <td>22.781653</td>\n",
       "    </tr>\n",
       "    <tr>\n",
       "      <th>min</th>\n",
       "      <td>1914.000000</td>\n",
       "      <td>0.000000</td>\n",
       "      <td>2.000000</td>\n",
       "    </tr>\n",
       "    <tr>\n",
       "      <th>25%</th>\n",
       "      <td>2006.000000</td>\n",
       "      <td>0.000000</td>\n",
       "      <td>37.000000</td>\n",
       "    </tr>\n",
       "    <tr>\n",
       "      <th>50%</th>\n",
       "      <td>2015.000000</td>\n",
       "      <td>0.000000</td>\n",
       "      <td>48.000000</td>\n",
       "    </tr>\n",
       "    <tr>\n",
       "      <th>75%</th>\n",
       "      <td>2018.000000</td>\n",
       "      <td>16.000000</td>\n",
       "      <td>59.000000</td>\n",
       "    </tr>\n",
       "    <tr>\n",
       "      <th>max</th>\n",
       "      <td>2021.000000</td>\n",
       "      <td>18.000000</td>\n",
       "      <td>98.000000</td>\n",
       "    </tr>\n",
       "  </tbody>\n",
       "</table>\n",
       "</div>"
      ],
      "text/plain": [
       "              Year          Age  Rotten Tomatoes\n",
       "count  9515.000000  9515.000000      9500.000000\n",
       "mean   2007.422386     6.935155        43.923368\n",
       "std      19.130367     7.757323        22.781653\n",
       "min    1914.000000     0.000000         2.000000\n",
       "25%    2006.000000     0.000000        37.000000\n",
       "50%    2015.000000     0.000000        48.000000\n",
       "75%    2018.000000    16.000000        59.000000\n",
       "max    2021.000000    18.000000        98.000000"
      ]
     },
     "execution_count": 223,
     "metadata": {},
     "output_type": "execute_result"
    }
   ],
   "source": [
    "plt.figure(figsize=(16,16)) # create a figure with a size of 10x6 inches\n",
    "plt.subplot(2,2,1)\n",
    "plt.title(\"Distribution of the Year column\") # add a subtitle to the figure\n",
    "sns.boxplot(x=\"streaming_service_type\", y=\"Year\", data=dataset_cleaned) # create a boxplot of the Age column by streaming services type\n",
    "plt.subplot(2,2,2)\n",
    "plt.title(\"Distribution of the Age column\") # add a subtitle to the figure\n",
    "sns.boxplot(x=\"streaming_service_type\", y=\"Age\", data=dataset_cleaned) # create a boxplot of the Age column by streaming services type\n",
    "plt.subplot(2,1,2)\n",
    "plt.title(\"Distribution of the reviews column\") # add a subtitle to the figure\n",
    "sns.boxplot(x=\"streaming_service_type\", y=\"Rotten Tomatoes\", data=dataset_cleaned) # create a boxplot of the Rotten Tomatoes column by streaming services type\n",
    "plt.show()\n",
    "\n",
    "#numerical information about the dataset\n",
    "dataset_cleaned[[\"Year\",\"Age\",\"Rotten Tomatoes\"]].describe()"
   ]
  }
 ],
 "metadata": {
  "kernelspec": {
   "display_name": "Python 3.9.12 ('base')",
   "language": "python",
   "name": "python3"
  },
  "language_info": {
   "codemirror_mode": {
    "name": "ipython",
    "version": 3
   },
   "file_extension": ".py",
   "mimetype": "text/x-python",
   "name": "python",
   "nbconvert_exporter": "python",
   "pygments_lexer": "ipython3",
   "version": "3.9.12"
  },
  "orig_nbformat": 4,
  "vscode": {
   "interpreter": {
    "hash": "ad2bdc8ecc057115af97d19610ffacc2b4e99fae6737bb82f5d7fb13d2f2c186"
   }
  }
 },
 "nbformat": 4,
 "nbformat_minor": 2
}
